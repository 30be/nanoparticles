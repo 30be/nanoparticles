{
 "cells": [
  {
   "cell_type": "code",
   "execution_count": 1,
   "id": "f1a9e2b2-6546-49c8-8e8b-a8cfaf6ba26d",
   "metadata": {},
   "outputs": [
    {
     "ename": "NameError",
     "evalue": "name 'plt' is not defined",
     "output_type": "error",
     "traceback": [
      "\u001b[31m---------------------------------------------------------------------------\u001b[39m",
      "\u001b[31mNameError\u001b[39m                                 Traceback (most recent call last)",
      "\u001b[36mCell\u001b[39m\u001b[36m \u001b[39m\u001b[32mIn[1]\u001b[39m\u001b[32m, line 26\u001b[39m\n\u001b[32m     23\u001b[39m   \u001b[38;5;28;01mreturn\u001b[39;00m term1 + term2\n\u001b[32m     25\u001b[39m wavelengths = \u001b[38;5;28mlist\u001b[39m(\u001b[38;5;28mrange\u001b[39m(\u001b[32m400\u001b[39m, \u001b[32m700\u001b[39m))\n\u001b[32m---> \u001b[39m\u001b[32m26\u001b[39m \u001b[43mplt\u001b[49m.plot(wavelengths, \u001b[38;5;28mlist\u001b[39m(\u001b[38;5;28mmap\u001b[39m(z_bar, wavelengths)))\n\u001b[32m     27\u001b[39m plt.plot(wavelengths, \u001b[38;5;28mlist\u001b[39m(\u001b[38;5;28mmap\u001b[39m(x_bar, wavelengths)))\n\u001b[32m     28\u001b[39m plt.plot(wavelengths, \u001b[38;5;28mlist\u001b[39m(\u001b[38;5;28mmap\u001b[39m(y_bar, wavelengths)))\n",
      "\u001b[31mNameError\u001b[39m: name 'plt' is not defined"
     ]
    }
   ],
   "source": [
    "import math\n",
    "\n",
    "def g(x, mu, tau1, tau2):\n",
    "  if x < mu:\n",
    "    return math.exp(-(tau1**2) * (x - mu)**2 / 2)\n",
    "  else:\n",
    "    return math.exp(-(tau2**2) * (x - mu)**2 / 2)\n",
    "\n",
    "def x_bar(lambda_val):\n",
    "  term1 = 1.056 * g(lambda_val, 599.8, 0.0264, 0.0323)\n",
    "  term2 = 0.362 * g(lambda_val, 442.0, 0.0624, 0.0374)\n",
    "  term3 = -0.065 * g(lambda_val, 501.1, 0.0490, 0.0382)\n",
    "  return term1 + term2 + term3\n",
    "\n",
    "def y_bar(lambda_val):\n",
    "  term1 = 0.821 * g(lambda_val, 568.8, 0.0213, 0.0247)\n",
    "  term2 = 0.286 * g(lambda_val, 530.9, 0.0613, 0.0322)\n",
    "  return term1 + term2\n",
    "\n",
    "def z_bar(lambda_val):\n",
    "  term1 = 1.217 * g(lambda_val, 437.0, 0.0845, 0.0278)\n",
    "  term2 = 0.681 * g(lambda_val, 459.0, 0.0385, 0.0725)\n",
    "  return term1 + term2\n",
    "\n",
    "wavelengths = list(range(400, 700))\n",
    "plt.plot(wavelengths, list(map(z_bar, wavelengths)))\n",
    "plt.plot(wavelengths, list(map(x_bar, wavelengths)))\n",
    "plt.plot(wavelengths, list(map(y_bar, wavelengths)))"
   ]
  },
  {
   "cell_type": "code",
   "execution_count": null,
   "id": "d2c64e57-0cfb-486d-bde2-8cbb42f8541e",
   "metadata": {},
   "outputs": [],
   "source": []
  }
 ],
 "metadata": {
  "kernelspec": {
   "display_name": "Python 3 (ipykernel)",
   "language": "python",
   "name": "python3"
  },
  "language_info": {
   "codemirror_mode": {
    "name": "ipython",
    "version": 3
   },
   "file_extension": ".py",
   "mimetype": "text/x-python",
   "name": "python",
   "nbconvert_exporter": "python",
   "pygments_lexer": "ipython3",
   "version": "3.13.3"
  }
 },
 "nbformat": 4,
 "nbformat_minor": 5
}
